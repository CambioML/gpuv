{
 "cells": [
  {
   "cell_type": "code",
   "execution_count": 1,
   "id": "bfa684c4-e91e-446e-8e58-4d9200636aa6",
   "metadata": {},
   "outputs": [],
   "source": [
    "%reload_ext autoreload\n",
    "%autoreload 2\n",
    "\n",
    "import os\n",
    "import sys\n",
    "\n",
    "current_directory = os.getcwd()\n",
    "sys.path.append(\".\")\n",
    "sys.path.append(\"..\")\n",
    "sys.path.append(\"../..\")\n",
    "\n",
    "import gpuv"
   ]
  },
  {
   "cell_type": "code",
   "execution_count": 4,
   "id": "c592924b-3fd9-47ff-ad05-e015953912bc",
   "metadata": {},
   "outputs": [
    {
     "data": {
      "text/plain": [
       "<module 'gpuv.nvml' from '/Users/jaredwilber/Desktop/gpuv/gpuv/nvml.py'>"
      ]
     },
     "execution_count": 4,
     "metadata": {},
     "output_type": "execute_result"
    }
   ],
   "source": [
    "gpuv.nvml"
   ]
  },
  {
   "cell_type": "code",
   "execution_count": 6,
   "id": "c1f56bb2-9173-4a86-b34d-0169fb23cf3d",
   "metadata": {},
   "outputs": [],
   "source": [
    "nv = gpuv.Nvml()"
   ]
  },
  {
   "cell_type": "code",
   "execution_count": 9,
   "id": "27c58e62-3b9f-44a9-b1a9-6efb222cb321",
   "metadata": {},
   "outputs": [
    {
     "data": {
      "text/plain": [
       "{'device_status': []}"
      ]
     },
     "execution_count": 9,
     "metadata": {},
     "output_type": "execute_result"
    }
   ],
   "source": [
    "nv.get()"
   ]
  },
  {
   "cell_type": "code",
   "execution_count": null,
   "id": "a8fa8c9a-57cc-498d-ad79-b8a5660070d0",
   "metadata": {},
   "outputs": [],
   "source": []
  }
 ],
 "metadata": {
  "kernelspec": {
   "display_name": "Python 3 (ipykernel)",
   "language": "python",
   "name": "python3"
  },
  "language_info": {
   "codemirror_mode": {
    "name": "ipython",
    "version": 3
   },
   "file_extension": ".py",
   "mimetype": "text/x-python",
   "name": "python",
   "nbconvert_exporter": "python",
   "pygments_lexer": "ipython3",
   "version": "3.8.17"
  }
 },
 "nbformat": 4,
 "nbformat_minor": 5
}
